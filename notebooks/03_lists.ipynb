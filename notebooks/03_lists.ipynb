{
 "cells": [
  {
   "cell_type": "markdown",
   "id": "7def5854",
   "metadata": {},
   "source": [
    "# Excercise Set 3\n",
    "## Lists\n"
   ]
  },
  {
   "cell_type": "markdown",
   "id": "56c63d13",
   "metadata": {},
   "source": [
    "Below there are two lists related to some famous people. One containing the names of the people, and their birthyears."
   ]
  },
  {
   "cell_type": "code",
   "execution_count": null,
   "id": "3ae89f07",
   "metadata": {},
   "outputs": [],
   "source": [
    "names = [\"Morgan Freeman\", \"Audrey Hepburn\", \"Freddie Mercury\", \"Ada Lovelace\"]\n",
    "years = [1937, 1929, 1946, 1815]"
   ]
  },
  {
   "cell_type": "markdown",
   "id": "d1ed3959",
   "metadata": {},
   "source": [
    "### Ex 3.1 Find the index of Ada Lovelace by eyeballing and gather the year in which she was born.\n",
    "\n",
    "Later use google or ChatGPT to find the index programatically."
   ]
  },
  {
   "cell_type": "markdown",
   "id": "ad5df7db-06e5-44d7-b3ba-9d5854610b49",
   "metadata": {},
   "source": []
  },
  {
   "cell_type": "markdown",
   "id": "9a1fe4cd",
   "metadata": {},
   "source": [
    "### Ex 3.2 Subset Morgan Freeman and Audrey Hepburn and assign it to a variable called `actors`. Also subset their birth years."
   ]
  },
  {
   "cell_type": "code",
   "execution_count": null,
   "id": "9ed30fee",
   "metadata": {},
   "outputs": [],
   "source": []
  },
  {
   "cell_type": "markdown",
   "id": "5f230aaf",
   "metadata": {},
   "source": [
    "### Ex 3.3 Remove (`remove`) Ada Lovelace out of the list `names` using her name."
   ]
  },
  {
   "cell_type": "code",
   "execution_count": null,
   "id": "4e8482a0",
   "metadata": {},
   "outputs": [],
   "source": []
  },
  {
   "cell_type": "markdown",
   "id": "e7042146-bd0a-461d-b137-b36a3b42e8c3",
   "metadata": {},
   "source": [
    "### Ex 3.4 Check programmatically whether Ada Lovelace exists in the list"
   ]
  },
  {
   "cell_type": "markdown",
   "id": "fe5f8666",
   "metadata": {},
   "source": [
    "### Ex 3.5 Remove (`pop`) Morgan Freeman but this time try to assign the function to a variable. See what happens to the list and to the variable."
   ]
  },
  {
   "cell_type": "code",
   "execution_count": null,
   "id": "7c9302cc",
   "metadata": {},
   "outputs": [],
   "source": []
  },
  {
   "cell_type": "markdown",
   "id": "8cf7812b",
   "metadata": {},
   "source": [
    "### Ex 3.6 Add the new list of actors below to the actors list you've created. Don't forget to add birth years."
   ]
  },
  {
   "cell_type": "code",
   "execution_count": null,
   "id": "f9237f1a",
   "metadata": {},
   "outputs": [],
   "source": [
    "actors2=[\"Matthew Mcconaughey\", \"Marion Cotillard\"]\n",
    "years2 = [1969, 1975]"
   ]
  },
  {
   "cell_type": "markdown",
   "id": "15ee4d16-90f0-4278-9796-3194216b9a89",
   "metadata": {},
   "source": [
    "# Stop here. \n",
    "We will continue later to this notebook"
   ]
  },
  {
   "cell_type": "markdown",
   "id": "44840e52",
   "metadata": {},
   "source": [
    "### Ex 3.7 Loop over (for) the values of your new `actors` list. Print out current ages of actors."
   ]
  },
  {
   "cell_type": "code",
   "execution_count": null,
   "id": "03fbac9d",
   "metadata": {},
   "outputs": [],
   "source": []
  },
  {
   "cell_type": "markdown",
   "id": "42bb19d9",
   "metadata": {},
   "source": [
    "### Ex 3.8 Loop over the values of your `actors` list. Print out current ages of actors if they are over 60."
   ]
  },
  {
   "cell_type": "code",
   "execution_count": null,
   "id": "7386b703",
   "metadata": {},
   "outputs": [],
   "source": []
  },
  {
   "cell_type": "markdown",
   "id": "c7f90886-3ad4-435a-901a-2a320ca6c8cc",
   "metadata": {},
   "source": [
    "### Ex 3.9 Create a new list from your actors: `ages`. Calculate currnet ages of these actors, using list comprehension."
   ]
  },
  {
   "cell_type": "code",
   "execution_count": null,
   "id": "f69419f1-9a04-4d47-a755-393150181e5b",
   "metadata": {},
   "outputs": [],
   "source": []
  },
  {
   "cell_type": "markdown",
   "id": "c89caefc-deab-4a59-88b1-7ba60d2f81ae",
   "metadata": {},
   "source": [
    "### Ex 3.10 Modify your list generation in a way that it only takes the values if the year was later than 1930."
   ]
  },
  {
   "cell_type": "code",
   "execution_count": null,
   "id": "37a6ee78-5d55-4860-936e-600830b6491b",
   "metadata": {},
   "outputs": [],
   "source": []
  }
 ],
 "metadata": {
  "kernelspec": {
   "display_name": "Python 3 (ipykernel)",
   "language": "python",
   "name": "python3"
  },
  "language_info": {
   "codemirror_mode": {
    "name": "ipython",
    "version": 3
   },
   "file_extension": ".py",
   "mimetype": "text/x-python",
   "name": "python",
   "nbconvert_exporter": "python",
   "pygments_lexer": "ipython3",
   "version": "3.9.13"
  }
 },
 "nbformat": 4,
 "nbformat_minor": 5
}
