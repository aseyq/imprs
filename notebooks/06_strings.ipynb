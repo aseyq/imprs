{
 "cells": [
  {
   "cell_type": "markdown",
   "id": "87f08e9f",
   "metadata": {},
   "source": [
    "# Exercise Set 6 - Strings"
   ]
  },
  {
   "cell_type": "markdown",
   "id": "e67dce59",
   "metadata": {},
   "source": [
    "## Looping Over Strings"
   ]
  },
  {
   "cell_type": "markdown",
   "id": "a42e67fd",
   "metadata": {},
   "source": [
    "### Ex6.1 Create a loop over the list `letters` below and print them in upper case. String variables has the method `.upper()` for that purpose."
   ]
  },
  {
   "cell_type": "code",
   "execution_count": null,
   "id": "05e0d753",
   "metadata": {},
   "outputs": [],
   "source": [
    "print(\"it's fun to stay at the ...\") # keep this line for your entertainment\n",
    "\n",
    "letters = [\"y\", \"m\", \"c\", \"a\"]\n"
   ]
  },
  {
   "cell_type": "markdown",
   "id": "02437ce3",
   "metadata": {},
   "source": [
    "### 6.2 Just like the list below, by default, a longer string variables is iterable over its letters. Copy paste your loop above and adapt it for the string. Notice that it will give you the same output."
   ]
  },
  {
   "cell_type": "code",
   "execution_count": null,
   "id": "5468431d",
   "metadata": {},
   "outputs": [],
   "source": [
    "print(\"it's fun to stay at the ...\") # keep this line for your entertainment\n",
    "\n",
    "my_string = \"ymca\""
   ]
  },
  {
   "cell_type": "markdown",
   "id": "0dc8d82a",
   "metadata": {},
   "source": [
    "## Concatenating a list of strings\n"
   ]
  },
  {
   "cell_type": "markdown",
   "id": "e2a45de4",
   "metadata": {},
   "source": [
    "Remember that you can concatenate two strings with `+`: `Hello` + ` World` gives you `Hello World`. How do you concatenate a number of strings in a list.\n",
    "\n",
    "### Ex 6.2: Turn the list below to a proper address line? One idea is to loop over them. But there is a nicer way. You can google it try. \n",
    "\n",
    "Hint: Don't forget to put spaces in between."
   ]
  },
  {
   "cell_type": "code",
   "execution_count": null,
   "id": "8c4f2f78",
   "metadata": {},
   "outputs": [],
   "source": [
    "my_list = ['Kurt', '-', 'Schumacher','st', 'Wassenaarseweg', '52']"
   ]
  }
 ],
 "metadata": {
  "kernelspec": {
   "display_name": "Python 3 (ipykernel)",
   "language": "python",
   "name": "python3"
  },
  "language_info": {
   "codemirror_mode": {
    "name": "ipython",
    "version": 3
   },
   "file_extension": ".py",
   "mimetype": "text/x-python",
   "name": "python",
   "nbconvert_exporter": "python",
   "pygments_lexer": "ipython3",
   "version": "3.9.13"
  }
 },
 "nbformat": 4,
 "nbformat_minor": 5
}
