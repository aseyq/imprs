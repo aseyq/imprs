{
 "cells": [
  {
   "cell_type": "markdown",
   "id": "64c6fb15-44a6-484e-9af9-9236baacb966",
   "metadata": {},
   "source": [
    "# Excercise set on Dictionaries"
   ]
  },
  {
   "cell_type": "markdown",
   "id": "3b112e4d",
   "metadata": {},
   "source": [
    "### Ex 4.1 - Take the names and year lists and turn them into a dictionary `birthyears` by hand.\n"
   ]
  },
  {
   "cell_type": "code",
   "execution_count": null,
   "id": "bfcce164",
   "metadata": {},
   "outputs": [],
   "source": [
    "names = [\"Morgan Freeman\", \"Audrey Hepburn\", \"Freddie Mercury\", \"Ada Lovelace\"]\n",
    "years = [1937, 1929, 1946, 1815]"
   ]
  },
  {
   "cell_type": "markdown",
   "id": "7f717529",
   "metadata": {},
   "source": [
    "### Ex 4.2 Add a new item your dictionary: Gottfried Leibniz with the value 1646"
   ]
  },
  {
   "cell_type": "code",
   "execution_count": null,
   "id": "341c75f7",
   "metadata": {},
   "outputs": [],
   "source": []
  },
  {
   "cell_type": "code",
   "execution_count": null,
   "id": "d7f7889c",
   "metadata": {},
   "outputs": [],
   "source": []
  },
  {
   "cell_type": "markdown",
   "id": "13697dc6-ee47-4d7f-8775-e4e3c8483d84",
   "metadata": {},
   "source": [
    "### Ex 4.3 (bonus) Remember that we could loop something to fill an empty list. Can you create a loop to generate the dictionary programatically."
   ]
  },
  {
   "cell_type": "code",
   "execution_count": null,
   "id": "f80f571c-323d-4496-9b45-3b78df940695",
   "metadata": {},
   "outputs": [],
   "source": []
  }
 ],
 "metadata": {
  "kernelspec": {
   "display_name": "Python 3 (ipykernel)",
   "language": "python",
   "name": "python3"
  },
  "language_info": {
   "codemirror_mode": {
    "name": "ipython",
    "version": 3
   },
   "file_extension": ".py",
   "mimetype": "text/x-python",
   "name": "python",
   "nbconvert_exporter": "python",
   "pygments_lexer": "ipython3",
   "version": "3.9.13"
  }
 },
 "nbformat": 4,
 "nbformat_minor": 5
}
