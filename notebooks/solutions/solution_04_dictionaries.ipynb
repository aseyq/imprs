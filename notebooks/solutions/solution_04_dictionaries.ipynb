{
 "cells": [
  {
   "cell_type": "markdown",
   "id": "64c6fb15-44a6-484e-9af9-9236baacb966",
   "metadata": {},
   "source": [
    "# Excercise set on Dictionaries"
   ]
  },
  {
   "cell_type": "markdown",
   "id": "3b112e4d",
   "metadata": {},
   "source": [
    "### Ex 4.1 - Take the names and year lists and turn them into a dictionary `birthyears` by hand.\n"
   ]
  },
  {
   "cell_type": "code",
   "execution_count": null,
   "id": "bfcce164",
   "metadata": {},
   "outputs": [],
   "source": [
    "names = [\"Morgan Freeman\", \"Audrey Hepburn\", \"Freddie Mercury\", \"Ada Lovelace\"]\n",
    "years = [1937, 1929, 1946, 1815]"
   ]
  },
  {
   "cell_type": "code",
   "execution_count": 10,
   "id": "f4e71a32-fd45-4f70-91b5-4dbbbe8aeb6f",
   "metadata": {
    "scrolled": true
   },
   "outputs": [
    {
     "name": "stdout",
     "output_type": "stream",
     "text": [
      "{'Morgan Freeman': 1937, 'Audrey Hepburn': 1929}\n"
     ]
    },
    {
     "data": {
      "text/plain": [
       "1937"
      ]
     },
     "execution_count": 10,
     "metadata": {},
     "output_type": "execute_result"
    }
   ],
   "source": [
    "birthyears = { \"Morgan Freeman\":1937, \"Audrey Hepburn\":1929} \n",
    "print(birthyears)\n",
    "\n",
    "birthyears[\"Morgan Freeman\"]\n",
    "\n",
    "### you could also contract it like that\n",
    "#birthyears = {names[0]:years[0]}\n"
   ]
  },
  {
   "cell_type": "markdown",
   "id": "7f717529",
   "metadata": {},
   "source": [
    "### Ex 4.2 Add a new item your dictionary: Gottfried Leibniz with the value 1646"
   ]
  },
  {
   "cell_type": "code",
   "execution_count": 11,
   "id": "341c75f7",
   "metadata": {},
   "outputs": [],
   "source": [
    "birthyears[\"Gottfried Leibniz\"] = 1646"
   ]
  },
  {
   "cell_type": "code",
   "execution_count": 12,
   "id": "d7f7889c",
   "metadata": {},
   "outputs": [
    {
     "name": "stdout",
     "output_type": "stream",
     "text": [
      "{'Morgan Freeman': 1937, 'Audrey Hepburn': 1929, 'Gottfried Leibniz': 1646}\n"
     ]
    }
   ],
   "source": [
    "print(birthyears)"
   ]
  },
  {
   "cell_type": "markdown",
   "id": "13697dc6-ee47-4d7f-8775-e4e3c8483d84",
   "metadata": {},
   "source": [
    "### Ex 4.3 (bonus) Remember that we could loop something to fill an empty list. Can you create a loop to generate the dictionary programatically."
   ]
  },
  {
   "cell_type": "markdown",
   "id": "79080612-bc83-441d-a60d-26f9a35e0488",
   "metadata": {},
   "source": [
    "Using the `zip` function would be the easiest choice. "
   ]
  },
  {
   "cell_type": "code",
   "execution_count": 1,
   "id": "2c7e6cd8-7164-4ed6-9252-4f79fdc216a6",
   "metadata": {},
   "outputs": [
    {
     "name": "stdout",
     "output_type": "stream",
     "text": [
      "{'Morgan Freeman': 1937, 'Audrey Hepburn': 1929, 'Freddie Mercury': 1946, 'Ada Lovelace': 1815}\n"
     ]
    }
   ],
   "source": [
    "names = [\"Morgan Freeman\", \"Audrey Hepburn\", \"Freddie Mercury\", \"Ada Lovelace\"]\n",
    "years = [1937, 1929, 1946, 1815]\n",
    "\n",
    "birthyears = {}\n",
    "for name, year in zip(names, years):\n",
    "    birthyears[name] = year\n",
    "\n",
    "print(birthyears)\n"
   ]
  },
  {
   "cell_type": "markdown",
   "id": "1ab7349e-4ea5-4ccc-b2d2-e607c045cdce",
   "metadata": {},
   "source": [
    "But we havent seen it yet. You can instead create an empty dictionary and fill it by looping over the indexes of these two lists."
   ]
  },
  {
   "cell_type": "code",
   "execution_count": 2,
   "id": "4c3ef878-d441-45d5-9ba3-98cebee6db71",
   "metadata": {},
   "outputs": [
    {
     "name": "stdout",
     "output_type": "stream",
     "text": [
      "{'Morgan Freeman': 1937, 'Audrey Hepburn': 1929, 'Freddie Mercury': 1946, 'Ada Lovelace': 1815}\n"
     ]
    }
   ],
   "source": [
    "names = [\"Morgan Freeman\", \"Audrey Hepburn\", \"Freddie Mercury\", \"Ada Lovelace\"]\n",
    "years = [1937, 1929, 1946, 1815]\n",
    "\n",
    "birthyears = {}\n",
    "for i in range(len(names)):\n",
    "    birthyears[names[i]] = years[i]\n",
    "\n",
    "print(birthyears)\n"
   ]
  },
  {
   "cell_type": "code",
   "execution_count": null,
   "id": "a702525c-6a05-40bd-ac5a-0c3f7431c00a",
   "metadata": {},
   "outputs": [],
   "source": []
  }
 ],
 "metadata": {
  "kernelspec": {
   "display_name": "Python 3 (ipykernel)",
   "language": "python",
   "name": "python3"
  },
  "language_info": {
   "codemirror_mode": {
    "name": "ipython",
    "version": 3
   },
   "file_extension": ".py",
   "mimetype": "text/x-python",
   "name": "python",
   "nbconvert_exporter": "python",
   "pygments_lexer": "ipython3",
   "version": "3.9.13"
  }
 },
 "nbformat": 4,
 "nbformat_minor": 5
}
