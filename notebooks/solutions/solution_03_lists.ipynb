{
 "cells": [
  {
   "cell_type": "markdown",
   "id": "7def5854",
   "metadata": {},
   "source": [
    "# Excercise Set 3\n",
    "## Lists\n"
   ]
  },
  {
   "cell_type": "markdown",
   "id": "56c63d13",
   "metadata": {},
   "source": [
    "Below there are two lists related to some famous people. One containing the names of the people, and their birthyears."
   ]
  },
  {
   "cell_type": "code",
   "execution_count": 15,
   "id": "3ae89f07",
   "metadata": {},
   "outputs": [],
   "source": [
    "names = [\"Morgan Freeman\", \"Audrey Hepburn\", \"Freddie Mercury\", \"Ada Lovelace\"]\n",
    "years = [1937, 1929, 1946, 1815]"
   ]
  },
  {
   "cell_type": "markdown",
   "id": "d1ed3959",
   "metadata": {},
   "source": [
    "### Ex 3.1 Find the index of Ada Lovelace by eyeballing and gather the year in which she was born.\n",
    "\n",
    "Later use google or ChatGPT to find the index programatically."
   ]
  },
  {
   "cell_type": "code",
   "execution_count": 16,
   "id": "5465a5fd-69df-4978-b8b6-61cf66a19900",
   "metadata": {},
   "outputs": [
    {
     "data": {
      "text/plain": [
       "1929"
      ]
     },
     "execution_count": 16,
     "metadata": {},
     "output_type": "execute_result"
    }
   ],
   "source": [
    "years[1]"
   ]
  },
  {
   "cell_type": "markdown",
   "id": "9a1fe4cd",
   "metadata": {},
   "source": [
    "### Ex 3.2 Subset Morgan Freeman and Audrey Hepburn and assign it to a variable called `actors`. Also subset their birth years."
   ]
  },
  {
   "cell_type": "code",
   "execution_count": 17,
   "id": "9ed30fee",
   "metadata": {},
   "outputs": [
    {
     "name": "stdout",
     "output_type": "stream",
     "text": [
      "['Morgan Freeman', 'Audrey Hepburn']\n"
     ]
    }
   ],
   "source": [
    "actors = names[0:2]\n",
    "actor_years = years[0:2]\n",
    "print(actors)"
   ]
  },
  {
   "cell_type": "markdown",
   "id": "5f230aaf",
   "metadata": {},
   "source": [
    "### Ex 3.3 Remove (`remove`) Ada Lovelace out of the list `names` using her name."
   ]
  },
  {
   "cell_type": "code",
   "execution_count": 9,
   "id": "4e8482a0",
   "metadata": {},
   "outputs": [
    {
     "name": "stdout",
     "output_type": "stream",
     "text": [
      "['Morgan Freeman', 'Audrey Hepburn', 'Freddie Mercury']\n"
     ]
    }
   ],
   "source": [
    "names.remove(\"Ada Lovelace\")\n",
    "print(names)"
   ]
  },
  {
   "cell_type": "markdown",
   "id": "e7042146-bd0a-461d-b137-b36a3b42e8c3",
   "metadata": {},
   "source": [
    "### Ex 3.4 Check programmatically whether Ada Lovelace exists in the list"
   ]
  },
  {
   "cell_type": "code",
   "execution_count": 10,
   "id": "b999874a-3cb0-4c5d-aee1-48f93e801614",
   "metadata": {},
   "outputs": [
    {
     "data": {
      "text/plain": [
       "False"
      ]
     },
     "execution_count": 10,
     "metadata": {},
     "output_type": "execute_result"
    }
   ],
   "source": [
    "\"Ada Lovelace\" in names"
   ]
  },
  {
   "cell_type": "markdown",
   "id": "fe5f8666",
   "metadata": {},
   "source": [
    "### Ex 3.5 Remove (`pop`) Morgan Freeman but this time try to assign the function to a variable. See what happens to the list and to the variable."
   ]
  },
  {
   "cell_type": "code",
   "execution_count": 13,
   "id": "7c9302cc",
   "metadata": {},
   "outputs": [
    {
     "name": "stdout",
     "output_type": "stream",
     "text": [
      "['a', 'c']\n",
      "b\n"
     ]
    }
   ],
   "source": [
    "mylist = [\"a\",\"b\",\"c\"]\n",
    "whatisthat = mylist.pop(1)\n",
    "print(mylist)\n",
    "print(whatisthat)"
   ]
  },
  {
   "cell_type": "markdown",
   "id": "8cf7812b",
   "metadata": {},
   "source": [
    "### Ex 3.6 Add the new list of actors below to the actors list you've created. Don't forget to add birth years."
   ]
  },
  {
   "cell_type": "code",
   "execution_count": 18,
   "id": "d05b74e5-9b70-4233-930b-948b61256cab",
   "metadata": {},
   "outputs": [
    {
     "name": "stdout",
     "output_type": "stream",
     "text": [
      "['Morgan Freeman', 'Audrey Hepburn']\n",
      "[1937, 1929]\n"
     ]
    }
   ],
   "source": [
    "print(actors)\n",
    "print(actor_years)"
   ]
  },
  {
   "cell_type": "code",
   "execution_count": 20,
   "id": "f9237f1a",
   "metadata": {},
   "outputs": [],
   "source": [
    "actors2=[\"Matthew Mcconaughey\", \"Marion Cotillard\"]\n",
    "years2 = [1969, 1975]"
   ]
  },
  {
   "cell_type": "code",
   "execution_count": 35,
   "id": "568df481-a3b9-4ab9-8c7b-f821a91fca62",
   "metadata": {},
   "outputs": [
    {
     "name": "stdout",
     "output_type": "stream",
     "text": [
      "['Morgan Freeman', 'Audrey Hepburn', 'Matthew Mcconaughey', 'Marion Cotillard']\n",
      "[1937, 1929, 1946, 1815, 1969, 1975]\n"
     ]
    }
   ],
   "source": [
    "new_actors = actors +actors2\n",
    "new_years = years + years2\n",
    "print(new_actors)\n",
    "print(new_years)"
   ]
  },
  {
   "cell_type": "code",
   "execution_count": null,
   "id": "60fb5ccd-ef25-44fe-982d-b8f9fdf94fcf",
   "metadata": {},
   "outputs": [],
   "source": []
  },
  {
   "cell_type": "markdown",
   "id": "15ee4d16-90f0-4278-9796-3194216b9a89",
   "metadata": {},
   "source": [
    "# Stop here. \n",
    "We will continue later to this notebook"
   ]
  },
  {
   "cell_type": "markdown",
   "id": "44840e52",
   "metadata": {},
   "source": [
    "### Ex 3.7 Loop over (for) the values of your new `actors_years` list. Print out current ages of actors."
   ]
  },
  {
   "cell_type": "code",
   "execution_count": 36,
   "id": "7b101705-d654-4043-8cfa-24c64945b5c1",
   "metadata": {},
   "outputs": [],
   "source": [
    "names = [\"Morgan Freeman\", \"Audrey Hepburn\", \"Freddie Mercury\", \"Ada Lovelace\"]\n",
    "years = [1937, 1929, 1946, 1815]"
   ]
  },
  {
   "cell_type": "code",
   "execution_count": 37,
   "id": "03fbac9d",
   "metadata": {},
   "outputs": [
    {
     "name": "stdout",
     "output_type": "stream",
     "text": [
      "86\n",
      "94\n",
      "77\n",
      "208\n"
     ]
    }
   ],
   "source": [
    "for birthyear in years:\n",
    "    print(2023-birthyear)"
   ]
  },
  {
   "cell_type": "code",
   "execution_count": null,
   "id": "0487879b-c3df-4ebb-8388-6af7ff273286",
   "metadata": {},
   "outputs": [],
   "source": []
  },
  {
   "cell_type": "markdown",
   "id": "42bb19d9",
   "metadata": {},
   "source": [
    "### Ex 3.8 Loop over the values of your `years` list. Print out current ages of actors if they are over 60."
   ]
  },
  {
   "cell_type": "code",
   "execution_count": 40,
   "id": "7386b703",
   "metadata": {},
   "outputs": [
    {
     "name": "stdout",
     "output_type": "stream",
     "text": [
      "208\n"
     ]
    }
   ],
   "source": [
    "for birthyear in years:\n",
    "    current_age = 2023 - birthyear\n",
    "    if current_age > 100:\n",
    "        print(current_age)"
   ]
  },
  {
   "cell_type": "markdown",
   "id": "c7f90886-3ad4-435a-901a-2a320ca6c8cc",
   "metadata": {},
   "source": [
    "### Ex 3.9 Create a new list from your actors: `years`. Calculate curent ages of these actors, using list comprehension."
   ]
  },
  {
   "cell_type": "code",
   "execution_count": 53,
   "id": "f69419f1-9a04-4d47-a755-393150181e5b",
   "metadata": {},
   "outputs": [
    {
     "name": "stdout",
     "output_type": "stream",
     "text": [
      "[86, 94, 77, 208]\n",
      "[86, 94, 77, 208]\n"
     ]
    }
   ],
   "source": [
    "years\n",
    "### first way\n",
    "current_ages = [(2023 - birthyear) for birthyear in years]\n",
    "\n",
    "print(current_ages)\n",
    "\n",
    "#### second way\n",
    "my_list = []\n",
    "for y in years:\n",
    "    current_age = 2023 - y\n",
    "    my_list.append(current_age)\n",
    "    \n",
    "print(my_list)"
   ]
  },
  {
   "cell_type": "markdown",
   "id": "c89caefc-deab-4a59-88b1-7ba60d2f81ae",
   "metadata": {},
   "source": [
    "### Ex 3.10 Modify your list generation in a way that it only takes the values if the year was later than 1930."
   ]
  },
  {
   "cell_type": "code",
   "execution_count": 68,
   "id": "37a6ee78-5d55-4860-936e-600830b6491b",
   "metadata": {},
   "outputs": [
    {
     "name": "stdout",
     "output_type": "stream",
     "text": [
      "checking... 86\n",
      "86 satisfies my condition. im adding it\n",
      "checking... 94\n",
      "checking... 77\n",
      "77 satisfies my condition. im adding it\n",
      "checking... 208\n",
      "[86, 77]\n",
      "[86, 77]\n"
     ]
    }
   ],
   "source": [
    "current_ages2 = [(2023 - birthyear) for birthyear in years if birthyear > 1930]\n",
    "\n",
    "my_list = []\n",
    "for y in years:\n",
    "    current_age = 2023 - y\n",
    "    print(\"checking...\", current_age,)\n",
    "    if y > 1930:\n",
    "        print(current_age, \"satisfies my condition. im adding it\")\n",
    "        my_list.append(current_age)\n",
    "\n",
    "\n",
    "print(current_ages2)\n",
    "print(my_list)\n"
   ]
  }
 ],
 "metadata": {
  "kernelspec": {
   "display_name": "Python 3 (ipykernel)",
   "language": "python",
   "name": "python3"
  },
  "language_info": {
   "codemirror_mode": {
    "name": "ipython",
    "version": 3
   },
   "file_extension": ".py",
   "mimetype": "text/x-python",
   "name": "python",
   "nbconvert_exporter": "python",
   "pygments_lexer": "ipython3",
   "version": "3.9.13"
  }
 },
 "nbformat": 4,
 "nbformat_minor": 5
}
