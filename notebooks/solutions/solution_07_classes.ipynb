{
 "cells": [
  {
   "cell_type": "markdown",
   "metadata": {
    "id": "0AHtaLOnlPsR"
   },
   "source": [
    "# Classes\n",
    "\n",
    "We would like to build a Public Goods Game simulation. \n",
    "Below you will see a class called `Player`. It has already a constructor `__init__` which takes id_in_group as input (and optionally group).It has the attributes:\n",
    "\n",
    "- `group`\n",
    "- `id_in_group`\n",
    "- `payoff`\n",
    "\n",
    "\n",
    "#### 7.1: Assume that the players created from this class will act in groups. They will contibute to a project an integer. And they will get a payoff. Modify the code below and another attribute called `contribution` and set the initial value to 0."
   ]
  },
  {
   "cell_type": "code",
   "execution_count": 2,
   "metadata": {},
   "outputs": [
    {
     "data": {
      "text/plain": [
       "0"
      ]
     },
     "execution_count": 2,
     "metadata": {},
     "output_type": "execute_result"
    }
   ],
   "source": [
    "def my_function(x=0):\n",
    "    return(x ** 2)\n",
    "\n",
    "my_function()"
   ]
  },
  {
   "cell_type": "code",
   "execution_count": 3,
   "metadata": {
    "id": "Kba3I1-RlNAa"
   },
   "outputs": [],
   "source": [
    "class Player:\n",
    "    def __init__(self, id_in_group, group=None):\n",
    "        self.group = group\n",
    "        self.id_in_group = id_in_group\n",
    "        self.payoff = 0\n",
    "        self.contribution = 0\n",
    "\n",
    "    def say_hello(self):\n",
    "        print(\"Hi, my id is\", self.id_in_group)"
   ]
  },
  {
   "cell_type": "code",
   "execution_count": 4,
   "metadata": {},
   "outputs": [
    {
     "name": "stdout",
     "output_type": "stream",
     "text": [
      "Hi, my id is 1\n"
     ]
    }
   ],
   "source": [
    "ali = Player(id_in_group=1)\n",
    "\n",
    "ali.say_hello()"
   ]
  },
  {
   "cell_type": "raw",
   "metadata": {},
   "source": [
    "#### 7.2: Create three instances of the class Player. One with `id_in_group=1`, one with `id_in_group=2` and one with `id_in_group`=3. Assign them to the variables p1, p2 and p3 respectively. Set their contribution to 10, 20 and 30 respectively. Then print out the contribution of `p1`.\n"
   ]
  },
  {
   "cell_type": "code",
   "execution_count": 5,
   "metadata": {
    "colab": {
     "base_uri": "https://localhost:8080/"
    },
    "id": "byoBnCTYs1Of",
    "outputId": "09c9f7a2-fadb-4a3f-9dad-9d70fc882ca1"
   },
   "outputs": [
    {
     "name": "stdout",
     "output_type": "stream",
     "text": [
      "10\n"
     ]
    }
   ],
   "source": [
    "p1 = Player(id_in_group =1)\n",
    "p2 = Player(id_in_group =2)\n",
    "p3 = Player(id_in_group = 3)\n",
    "\n",
    "p1.contribution = 10\n",
    "p2.contribution = 20\n",
    "p3.contribution = 30\n",
    "\n",
    "print(p1.contribution)"
   ]
  },
  {
   "cell_type": "markdown",
   "metadata": {},
   "source": [
    "### 7.3 Check the type of p1. What would you expect?"
   ]
  },
  {
   "cell_type": "code",
   "execution_count": 31,
   "metadata": {},
   "outputs": [
    {
     "data": {
      "text/plain": [
       "__main__.Player"
      ]
     },
     "execution_count": 31,
     "metadata": {},
     "output_type": "execute_result"
    }
   ],
   "source": [
    "type(p1)"
   ]
  },
  {
   "cell_type": "markdown",
   "metadata": {},
   "source": [
    "### 7.4 Now put these player in a list called `players`. Loop through the list and print out the id and contribution of each player."
   ]
  },
  {
   "cell_type": "code",
   "execution_count": 6,
   "metadata": {},
   "outputs": [
    {
     "name": "stdout",
     "output_type": "stream",
     "text": [
      "Hi, my id is 1\n",
      "  and my contibution is  10\n",
      "--------\n",
      "Hi, my id is 2\n",
      "  and my contibution is  20\n",
      "--------\n",
      "Hi, my id is 3\n",
      "  and my contibution is  30\n",
      "--------\n"
     ]
    }
   ],
   "source": [
    "players = [p1,p2,p3]\n",
    "\n",
    "for p in players:\n",
    "    print(\"Hi, my id is\",p.id_in_group)\n",
    "    print(\"  and my contibution is \", p.contribution)\n",
    "    print(\"--------\")"
   ]
  },
  {
   "cell_type": "markdown",
   "metadata": {},
   "source": [
    "## 7.5 Create a new class called `Group`. It should have the following attributes:\n",
    "\n",
    "- `total_contribution` : Set it to 0 initially\n",
    "- `individual_share`: Set it to 0 initially\n",
    "- `_players`: Set it to an empty list initially. (Note the underscore in the name. It is just a name but its a convention to use underscore for private attributes. We will discuss this later.)"
   ]
  },
  {
   "cell_type": "code",
   "execution_count": 7,
   "metadata": {
    "scrolled": true
   },
   "outputs": [],
   "source": [
    "class Group:\n",
    "    def __init__(self):\n",
    "        self.total_contribution = 0\n",
    "        self.individual_share = 0\n",
    "        self.players = []\n",
    "\n",
    "    def add_member(self, player):\n",
    "        # add the member\n",
    "        self.players.append(player)\n",
    "\n",
    "        # link group to player's group attribute\n",
    "        player.group = self\n",
    "\n",
    "    def get_players(self):\n",
    "        return self.players\n",
    "    \n",
    "# create group\n",
    "my_group = Group()\n",
    "# take a look at members\n",
    "\n",
    "\n",
    "my_group.add_member(p1)\n",
    "my_group.add_member(p2)\n",
    "my_group.add_member(p3)\n"
   ]
  },
  {
   "cell_type": "markdown",
   "metadata": {},
   "source": [
    "## 7.6 Build a method for the `Group` class called `add_member(player)`. It should take a player object and do two things:\n",
    "\n",
    "- Add the new member to the `_players` list\n",
    "- Set the `group` attribute of the player to the current group (`self` refers to the current group)"
   ]
  },
  {
   "cell_type": "markdown",
   "metadata": {},
   "source": [
    "We did it above"
   ]
  },
  {
   "cell_type": "markdown",
   "metadata": {},
   "source": [
    "### 7.7: Assume that we don't have access to the list directly. Build a method called `get_players(self)` and it should return the list of players."
   ]
  },
  {
   "cell_type": "markdown",
   "metadata": {},
   "source": [
    "We did it above"
   ]
  },
  {
   "cell_type": "markdown",
   "metadata": {},
   "source": [
    "### Ex 7.8 Create a new group. Add the three players you created to the group. Then try to access the attributes of group through players. Or vice versa."
   ]
  },
  {
   "cell_type": "code",
   "execution_count": 9,
   "metadata": {},
   "outputs": [
    {
     "name": "stdout",
     "output_type": "stream",
     "text": [
      "0\n",
      "0\n",
      "1 10\n",
      "2 20\n",
      "3 30\n"
     ]
    }
   ],
   "source": [
    "group = Group()\n",
    "group.add_member(p1)\n",
    "group.add_member(p2)\n",
    "group.add_member(p3)\n",
    "\n",
    "# Access group attributes through players\n",
    "print(p1.group.total_contribution)\n",
    "print(p2.group.individual_share)\n",
    "\n",
    "# Access player attributes through group\n",
    "players = group.get_players()\n",
    "for player in players:\n",
    "    print(player.id_in_group, player.contribution)\n"
   ]
  },
  {
   "cell_type": "markdown",
   "metadata": {},
   "source": [
    "### Ex 7.9: Now create a separate function called `set_payoffs(group)`. It should get the group object as an input. \n",
    "\n",
    "- It should get the players in the group using `group.get_players()` method of the group\n",
    "- Then it should get the contributions from each player using `contribution` method of the player.\n",
    "- Sum them up. Write this value to `group.total_contribution` variable.\n",
    "- It should calculate the indiviual share of each person in the public goods game. The individual share is the total contribution multipled my the `MULTIPLIER` and divided by the number of players in the group. Write this value to `group.individual_share` variable.\n",
    "- Then loop over each player in the group and set the `payoff` varible of each member. The payoff is the individual share minus the contribution of the player. Add also a `print` statement to print the id and the payoff of each player so we can easily see the result and debug.\n",
    "\n",
    "- Assume that the `MULTIPLIER` is 2, and players have the `ENDOWMENT` of 20. I've set these as constants below.\n",
    "\n"
   ]
  },
  {
   "cell_type": "code",
   "execution_count": 10,
   "metadata": {},
   "outputs": [],
   "source": [
    "MULTIPLIER = 2\n",
    "ENDOWMENT = 20\n",
    "\n",
    "def set_payoffs(group):\n",
    "    players = group.get_players()\n",
    "    total_contribution = sum(player.contribution for player in players)\n",
    "    group.total_contribution = total_contribution\n",
    "\n",
    "    num_players = len(players)\n",
    "    group.individual_share = (total_contribution * MULTIPLIER) / num_players\n",
    "\n",
    "    for player in players:\n",
    "        player.payoff = group.individual_share - player.contribution\n",
    "        print(f\"Player ID: {player.id_in_group}, Payoff: {player.payoff}\")\n"
   ]
  },
  {
   "cell_type": "markdown",
   "metadata": {},
   "source": [
    "## 7.10: Try your set payoff function. "
   ]
  },
  {
   "cell_type": "code",
   "execution_count": 11,
   "metadata": {},
   "outputs": [
    {
     "name": "stdout",
     "output_type": "stream",
     "text": [
      "Player ID: 1, Payoff: 30.0\n",
      "Player ID: 2, Payoff: 20.0\n",
      "Player ID: 3, Payoff: 10.0\n"
     ]
    }
   ],
   "source": [
    "group = Group()\n",
    "group.add_member(p1)\n",
    "group.add_member(p2)\n",
    "group.add_member(p3)\n",
    "\n",
    "p1.contribution = 10\n",
    "p2.contribution = 20\n",
    "p3.contribution = 30\n",
    "\n",
    "set_payoffs(group)\n"
   ]
  },
  {
   "cell_type": "markdown",
   "metadata": {},
   "source": [
    "### 7.11: Now think about your `set_payoff` function. Could you write it as a method of the `Group` class? What would be the advantages and disadvantages of doing so?\n",
    "(oTree uses the former approach, but the latter approach is also very common)"
   ]
  },
  {
   "cell_type": "markdown",
   "metadata": {},
   "source": []
  }
 ],
 "metadata": {
  "colab": {
   "collapsed_sections": [],
   "name": "classes1.ipynb",
   "provenance": []
  },
  "kernelspec": {
   "display_name": "Python 3 (ipykernel)",
   "language": "python",
   "name": "python3"
  },
  "language_info": {
   "codemirror_mode": {
    "name": "ipython",
    "version": 3
   },
   "file_extension": ".py",
   "mimetype": "text/x-python",
   "name": "python",
   "nbconvert_exporter": "python",
   "pygments_lexer": "ipython3",
   "version": "3.9.13"
  }
 },
 "nbformat": 4,
 "nbformat_minor": 4
}
