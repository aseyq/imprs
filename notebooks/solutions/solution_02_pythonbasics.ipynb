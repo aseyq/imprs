{
 "cells": [
  {
   "cell_type": "markdown",
   "id": "6062c5b6",
   "metadata": {},
   "source": [
    "# Exercise Set 2\n",
    "## Python Basics"
   ]
  },
  {
   "cell_type": "markdown",
   "id": "08e98b04",
   "metadata": {},
   "source": [
    "Now that we know how to create, edit, and manipulate cells, we can start working with Python."
   ]
  },
  {
   "cell_type": "markdown",
   "id": "0377359a",
   "metadata": {},
   "source": [
    "### Ex 2.1. Calculating Public Good Game Payoffs\n",
    "Imagine we have three players: A, B, and C. They are playing a Public Goods Game. Each has to decide how much they should contribute from their initial endowment of 10 tokens to the public pool. They keep their unallocated tokens. The total number of tokens in the pool is multiplied by 2 and then divided equally among each player.\n",
    "\n",
    "Player A gives 8 tokens, Player B gives 3 tokens, and Player C gives 2 tokens to the public pool.\n",
    "\n",
    "You are asked to create a calculator for this Public Goods Game. For that purpose:\n",
    "\n",
    "- Create a variable for the initial number of tokens: `ENDOWMENT` (10).\n",
    "\n",
    "- Create a variable for the multiplier of the contributions to the public pool: 2.\n",
    "\n",
    "- Create 3 variables for each player's contribution: `xA`, `xB`, `xC`.\n",
    "\n",
    "- Each participant will divide the return from the public good equally. Calculate the individual share.\n",
    "\n",
    "- Using these variables, calculate how much each participant earns. At the end, print them all.\n",
    "\n",
    "- Then, you can play around with the values and observe how things change.\n",
    "\n",
    "**Tip**: In Python, you can print multiple variables by separating them with a comma. `print(xA, xB, xC)`\n"
   ]
  },
  {
   "cell_type": "code",
   "execution_count": 10,
   "id": "29cdb859",
   "metadata": {},
   "outputs": [
    {
     "name": "stdout",
     "output_type": "stream",
     "text": [
      "8.666666666666666\n",
      "Payoff of Player A 8.666666666666666\n",
      "Payoff of Player B 15.666666666666666\n",
      "Payoff of Player C 18.666666666666664\n"
     ]
    }
   ],
   "source": [
    "ENDOWMENT = 10\n",
    "MULTIPLIER = 2\n",
    "\n",
    "xA = 10\n",
    "xB = 3\n",
    "xC = 0\n",
    "\n",
    "individual_share = (xA + xB + xC) * MULTIPLIER / 3\n",
    "print(individual_share)\n",
    "\n",
    "payoffA = ENDOWMENT - xA + individual_share\n",
    "payoffB = ENDOWMENT - xB + individual_share\n",
    "payoffC = ENDOWMENT - xC + individual_share\n",
    "\n",
    "print(\"Payoff of Player A\", payoffA) \n",
    "print(\"Payoff of Player B\", payoffB) \n",
    "print(\"Payoff of Player C\", payoffC) "
   ]
  },
  {
   "cell_type": "markdown",
   "id": "58b3be64",
   "metadata": {},
   "source": [
    "### Ex 2.2. Get the Type of the Variables `xA` and `individual_share`: What Type Are They?\n",
    "Determine the types of the variables `xA` and `individual_share`. What types are they? If they are types other than `int`, convert them to `int`. See if they change.\n",
    "\n",
    "We haven't learned how to convert a variable from one type to another. It's common for anyone who is coding to look for a function that they don't know. There are way more functions and methods than we can possibly know by heart. After learning about the types of both variables, practice googling the conversion, and do it in a new cell. AI agents are marvelous at finding needed functions or solutions. Feel free to ask ChatGPT about type conversion too.\n"
   ]
  },
  {
   "cell_type": "code",
   "execution_count": 17,
   "id": "d39c8d43-3d15-430e-bf1a-813089ab59d9",
   "metadata": {},
   "outputs": [
    {
     "name": "stdout",
     "output_type": "stream",
     "text": [
      "<class 'int'>\n",
      "10\n"
     ]
    }
   ],
   "source": [
    "print(type(xA))\n",
    "print(xA)"
   ]
  },
  {
   "cell_type": "code",
   "execution_count": 16,
   "id": "1c068050-4ae0-42d8-823a-70ca91d15e40",
   "metadata": {},
   "outputs": [
    {
     "name": "stdout",
     "output_type": "stream",
     "text": [
      "<class 'float'>\n",
      "8.666666666666666\n"
     ]
    }
   ],
   "source": [
    "print(type(individual_share))\n",
    "print(individual_share)"
   ]
  },
  {
   "cell_type": "code",
   "execution_count": 19,
   "id": "c0dada7a-4f51-4f9a-9bb1-059f43b5cbbb",
   "metadata": {},
   "outputs": [
    {
     "data": {
      "text/plain": [
       "8"
      ]
     },
     "execution_count": 19,
     "metadata": {},
     "output_type": "execute_result"
    }
   ],
   "source": [
    "int(individual_share)"
   ]
  },
  {
   "cell_type": "markdown",
   "id": "cdd65de3",
   "metadata": {},
   "source": [
    "### Ex 2.3. Imagine We Had 20 Participants Instead of 3\n",
    "It would be extremely redundant to write each variable one by one to sum them up if we had 20 participants instead of 3. Have you faced a similar problem in another programming language? What kind of solution does that programming language offer? What kind of data type would we use here? (You don't need to program it. Just think about it.)"
   ]
  },
  {
   "cell_type": "markdown",
   "id": "d85ca9f9-bcf9-438e-9d12-307c314705ea",
   "metadata": {},
   "source": [
    "We could use a list structure for that. Then loop over the values to calculate the payoffs."
   ]
  },
  {
   "cell_type": "code",
   "execution_count": null,
   "id": "4fd75270-9e32-41f8-b4c0-9a2e9a73c3d5",
   "metadata": {},
   "outputs": [],
   "source": []
  }
 ],
 "metadata": {
  "kernelspec": {
   "display_name": "Python 3 (ipykernel)",
   "language": "python",
   "name": "python3"
  },
  "language_info": {
   "codemirror_mode": {
    "name": "ipython",
    "version": 3
   },
   "file_extension": ".py",
   "mimetype": "text/x-python",
   "name": "python",
   "nbconvert_exporter": "python",
   "pygments_lexer": "ipython3",
   "version": "3.9.13"
  }
 },
 "nbformat": 4,
 "nbformat_minor": 5
}
