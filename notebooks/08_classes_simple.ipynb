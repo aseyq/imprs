{
 "cells": [
  {
   "cell_type": "code",
   "execution_count": 1,
   "id": "7e29a4c8-31a6-46a1-b779-e472c4210ec8",
   "metadata": {},
   "outputs": [],
   "source": [
    "import numpy"
   ]
  },
  {
   "cell_type": "code",
   "execution_count": 7,
   "id": "c1a6efde-901c-4dde-babd-32cdfbd8b0e0",
   "metadata": {},
   "outputs": [],
   "source": [
    "import string\n",
    "import random\n",
    "\n",
    "MULTIPLIER = 2\n",
    "ENDOWMENT = 10\n",
    "\n",
    "class Player:\n",
    "    def __init__(self):\n",
    "        self.payoff = 0\n",
    "        self.contribution = 0\n",
    "        self.name = self.generate_random_name()\n",
    "        self.group = None  # Initialize the group as None\n",
    "\n",
    "    def generate_random_name(self):\n",
    "        # this generates a 5 letter random name\n",
    "        return ''.join(random.choices(string.ascii_uppercase, k=5))\n",
    "\n",
    "    def __str__(self):\n",
    "        # this defines how a player looks when printed\n",
    "        return f\"Player {self.name}\"\n",
    "\n",
    "class Group:\n",
    "    def __init__(self):\n",
    "        self.total_contribution = 0\n",
    "        self.individual_share = 0\n",
    "        self._players = []\n",
    "        self.next_id = 1\n",
    "    \n",
    "    def get_player_by_id(self, id_in_group):\n",
    "        for player in self._players:\n",
    "            if player.id_in_group == id_in_group:\n",
    "                return player\n",
    "        return None\n",
    "\n",
    "    def add_member(self, player):\n",
    "        player.id_in_group = self.next_id\n",
    "        self.next_id += 1\n",
    "        self._players.append(player)\n",
    "        player.group = self\n",
    "\n",
    "    def get_players(self):\n",
    "        return self._players"
   ]
  },
  {
   "cell_type": "markdown",
   "id": "0d159373-a1d1-4c5b-9d18-63b65c8c4399",
   "metadata": {},
   "source": [
    "### Now you already have a Player class and a Group class. Create some players first, and then add members to it. Print the players and look at their attributes."
   ]
  },
  {
   "cell_type": "code",
   "execution_count": 4,
   "id": "f3746317-50a8-483a-a2d6-930f8e0c1340",
   "metadata": {},
   "outputs": [],
   "source": [
    "\n",
    "p1 = Player()\n",
    "p2 = Player()\n",
    "p3 = Player()\n",
    "\n",
    "\n",
    "group = Group()\n",
    "group.add_member(p1)\n",
    "group.add_member(p2)\n",
    "group.add_member(p3)\n"
   ]
  },
  {
   "cell_type": "markdown",
   "id": "b4dec8db-aecf-4676-bc1d-33a7c88cc492",
   "metadata": {},
   "source": [
    "### Create a new group. "
   ]
  },
  {
   "cell_type": "code",
   "execution_count": null,
   "id": "34aa392e-85f6-4120-a724-311f37ae5ba8",
   "metadata": {},
   "outputs": [],
   "source": []
  },
  {
   "cell_type": "markdown",
   "id": "5de636e5-1998-4c59-ae1a-e9e8939a4413",
   "metadata": {},
   "source": [
    "### Add those three players to this new group"
   ]
  },
  {
   "cell_type": "code",
   "execution_count": null,
   "id": "6b4e622d-5ed7-4eea-a803-8f23767e64b6",
   "metadata": {},
   "outputs": [],
   "source": []
  },
  {
   "cell_type": "markdown",
   "id": "6fc38909-2951-4354-ad93-6f8979ac9d5a",
   "metadata": {},
   "source": [
    "### Look at the attributes of the group"
   ]
  },
  {
   "cell_type": "code",
   "execution_count": null,
   "id": "34d25ac3-74c9-437c-84da-c637898fb387",
   "metadata": {},
   "outputs": [],
   "source": []
  },
  {
   "cell_type": "markdown",
   "id": "49fa30e9-ba52-4589-ba54-7c8b72b9bdc0",
   "metadata": {},
   "source": [
    "### Set contributions of these three players as 0, 10, 20 respectively"
   ]
  },
  {
   "cell_type": "code",
   "execution_count": null,
   "id": "8d3f6e68-1a9f-4885-bbdd-a8b532f91092",
   "metadata": {},
   "outputs": [],
   "source": []
  },
  {
   "cell_type": "markdown",
   "id": "5f064f57-3892-41bc-b7b5-34119901d363",
   "metadata": {},
   "source": [
    "### Try to reach a group (and its attributes) from a player object to group object. And vice versa."
   ]
  },
  {
   "cell_type": "code",
   "execution_count": null,
   "id": "4f135c56-ca00-4920-b696-d83d91273098",
   "metadata": {},
   "outputs": [],
   "source": []
  },
  {
   "cell_type": "markdown",
   "id": "a4f4c796-4389-4791-bd9d-80827882f412",
   "metadata": {},
   "source": [
    "### Now build a function (at the top level) called `set_payoffs` to update `total_contribution` and `individual_share` and set players' payoffs."
   ]
  },
  {
   "cell_type": "code",
   "execution_count": null,
   "id": "03036ddb-a416-4685-bd62-b4ed32ba5c72",
   "metadata": {},
   "outputs": [],
   "source": [
    "def set_payoffs(group):\n",
    "    players = group.get_players()\n",
    "    num_players = ####\n",
    "    contributions = ##### <----\n",
    "    total_contribution = \n",
    "\n",
    "    ## note that we have to update group variable\n",
    "    group.total_contribution\n",
    "    \n",
    "    group.individual_share = (total_contribution * MULTIPLIER) / num_players\n",
    "\n",
    "    for player in players:\n",
    "        ####"
   ]
  },
  {
   "cell_type": "code",
   "execution_count": null,
   "id": "b63a406d-74e9-4032-82d2-0e4e48d597bc",
   "metadata": {},
   "outputs": [],
   "source": []
  }
 ],
 "metadata": {
  "kernelspec": {
   "display_name": "Python 3 (ipykernel)",
   "language": "python",
   "name": "python3"
  },
  "language_info": {
   "codemirror_mode": {
    "name": "ipython",
    "version": 3
   },
   "file_extension": ".py",
   "mimetype": "text/x-python",
   "name": "python",
   "nbconvert_exporter": "python",
   "pygments_lexer": "ipython3",
   "version": "3.9.13"
  }
 },
 "nbformat": 4,
 "nbformat_minor": 5
}
