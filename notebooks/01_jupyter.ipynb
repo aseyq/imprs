{
 "cells": [
  {
   "cell_type": "markdown",
   "id": "6988e8aa",
   "metadata": {},
   "source": [
    "# Exercise Set 1\n",
    "\n",
    "## Jupyter Notebook\n",
    "\n",
    "You are seeing the interface of a Jupyter notebook. Each notebook has a number of cells. Cells can either contain text (in Markdown format) or code.\n",
    "\n",
    "This is (obviously) a text cell. Below, you will see a code cell. You can tell a code cell from the `[ ]:` tag at the beginning.\n",
    "\n",
    "- You can double-click a cell to start editing. (You can also press `Enter` after the cell is selected. Note the blue vertical line.)\n",
    "\n",
    "- Once you are in *edit mode*, you will see a blue frame around it. You can press `Esc` to stop editing a cell.\n",
    "\n",
    "- If you press `Ctrl + Enter` on a cell (whether in edit mode or not), the code will be executed. This means if it is a text cell, Jupyter will show it stylized according to Markdown syntax. If it is a code cell, it will run the Python code in it.\n",
    "\n",
    "### Ex 1. Double click this cell (or press Enter after selecting it) and see what the markdown format looks like.\n",
    "\n",
    "### Ex 2. Double click the cell below. Change the variable `my_name` to your name. Then press `Ctrl + Enter`.\n"
   ]
  },
  {
   "cell_type": "code",
   "execution_count": null,
   "id": "732760fe",
   "metadata": {},
   "outputs": [],
   "source": [
    "my_name = \"Ali\"\n",
    "print(\"My name is \", my_name)"
   ]
  },
  {
   "cell_type": "markdown",
   "id": "e23d1e5e",
   "metadata": {},
   "source": [
    "### Ex 3. Below, there is a misformatted cell. It is supposed to be a code cell, but instead, it is a text (markdown) cell. First, try to execute it and see what happens. Then, go to the little toolbar at the top of the page and click on the \"Markdown\" dropdown and change it to Code. Note also the keyboard shortcuts:\n",
    "\n",
    "- `Esc` then `m`: To markdown\n",
    "- `Esc` then `y`: To code\n"
   ]
  },
  {
   "cell_type": "markdown",
   "id": "acf5cbd7-2c48-4c01-a0a6-45b049ebdfc8",
   "metadata": {},
   "source": [
    "print(\"this cell is supposed to be a code cell\")"
   ]
  },
  {
   "cell_type": "markdown",
   "id": "58733fa4",
   "metadata": {},
   "source": [
    "# Running Code in the Cell and Moving On\n",
    "One way to navigate a notebook is to use the arrow keys. There is also a useful shortcut, `Shift+Enter`. Just like `Ctrl+Enter`, it executes the cell but proceeds to the next one. This way, you can execute several cells serially.\n",
    "\n",
    "### Ex 4. Try to execute the two cells below by pressing `Shift + Enter` twice.\n"
   ]
  },
  {
   "cell_type": "code",
   "execution_count": null,
   "id": "5612b0bd",
   "metadata": {},
   "outputs": [],
   "source": [
    "average_age = [1, 2, 3, 4, 5, 6]\n",
    "average_height = [74.1,  85.5, 94, 100.3, 107.0, 115.5]"
   ]
  },
  {
   "cell_type": "code",
   "execution_count": null,
   "id": "b834ea18",
   "metadata": {},
   "outputs": [],
   "source": [
    "import matplotlib.pyplot as plt\n",
    "plt.plot(average_age, average_height)\n",
    "plt.xlabel(\"Age\")\n",
    "plt.ylabel(\"Height (in cm)\")"
   ]
  },
  {
   "cell_type": "markdown",
   "id": "8eb028da",
   "metadata": {},
   "source": [
    "If you got an error like \"no module named matplotlib,\" then you need to stop the server. Go back to the terminal and press `Ctrl+C`, then `Enter`. Then, in the terminal, install matplotlib by running `pip install matplotlib`.\n",
    "\n",
    "If you ran the previous plots properly, you might have noticed two things:\n",
    "\n",
    "1. Jupyter Notebook is able to plot the graphs inside the notebook.\n",
    "\n",
    "2. The variables created in one cell can be used in another cell.\n"
   ]
  },
  {
   "cell_type": "markdown",
   "id": "229f046c",
   "metadata": {},
   "source": [
    "### Ex 5. Take a look at the buttons on the right. Using those buttons, or by pressing `b`, create a new cell. Change it to a text (Markdown) cell."
   ]
  },
  {
   "cell_type": "code",
   "execution_count": null,
   "id": "b307f10a-71d8-4225-94f1-32464d1e9744",
   "metadata": {},
   "outputs": [],
   "source": []
  },
  {
   "cell_type": "markdown",
   "id": "fb2ac3f4",
   "metadata": {},
   "source": [
    "### Ex 6. Using the `Edit` menu, or by pressing `d` twice, delete the cell."
   ]
  },
  {
   "cell_type": "code",
   "execution_count": null,
   "id": "b4171dce",
   "metadata": {},
   "outputs": [],
   "source": []
  },
  {
   "cell_type": "markdown",
   "id": "00d8d61c-04a6-4a02-9ae8-979256638364",
   "metadata": {},
   "source": [
    "## Summary of Keyboard Shortcuts\n",
    "\n",
    "| Keyboard Shortcut | Description |\n",
    "| ---------------- | ----------- |\n",
    "| `Ctrl + Enter`   | Run selected cell |\n",
    "| `Shift + Enter`  | Run selected cell and advance to the next cell |\n",
    "| `Enter`          | Edit selected cell           |\n",
    "| `Esc`            | Stop Editing the cell   |\n",
    "| `m`              | Cell to Markdown (text) |\n",
    "| `y`              | Cell to code            |\n",
    "| `d` and `d` again| Delete cell |\n",
    "| `Ctrl + Shift + h` | Show keyboard shortcuts                    |"
   ]
  },
  {
   "cell_type": "markdown",
   "id": "5a05463f-c5b7-4270-85fb-1b955eb099c4",
   "metadata": {},
   "source": [
    "### Ex 7. Take a look at the edit menu to familiarize yourself with other commands you can use."
   ]
  },
  {
   "cell_type": "code",
   "execution_count": null,
   "id": "1318be2b-a659-4cc2-9b76-268aeb60c318",
   "metadata": {},
   "outputs": [],
   "source": []
  }
 ],
 "metadata": {
  "kernelspec": {
   "display_name": "Python 3 (ipykernel)",
   "language": "python",
   "name": "python3"
  },
  "language_info": {
   "codemirror_mode": {
    "name": "ipython",
    "version": 3
   },
   "file_extension": ".py",
   "mimetype": "text/x-python",
   "name": "python",
   "nbconvert_exporter": "python",
   "pygments_lexer": "ipython3",
   "version": "3.9.13"
  }
 },
 "nbformat": 4,
 "nbformat_minor": 5
}
