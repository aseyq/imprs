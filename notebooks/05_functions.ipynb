{
 "cells": [
  {
   "cell_type": "markdown",
   "id": "d741ea95-5a36-45f3-923d-f06234e1e8ef",
   "metadata": {},
   "source": [
    "# Excercise set 5\n",
    "## Functions"
   ]
  },
  {
   "cell_type": "markdown",
   "id": "07fea845-3d58-4da1-976e-a40d359247f3",
   "metadata": {},
   "source": [
    "## 5.1 a) Create a function that takes a `budget`, `quantity` of an item, and `price` of an item as parameters. Then it should return `True` if the budget is enough to buy the item and `False` if its not.\n",
    "## b) Set the default budget to 100. (You will get an error. Why so? Could you fix this? \n",
    "## c) Now copy the function but this time without the defult value. How would you change the parameters if you'd like to signal the type of `budget (float)`, `quantity (integer) `, and `price (float)`. You don't have to hint the output (which is bool)\n",
    "\n",
    "\n"
   ]
  },
  {
   "cell_type": "code",
   "execution_count": null,
   "id": "90731d73-3c36-462a-931a-88c1b5a0ef3a",
   "metadata": {},
   "outputs": [],
   "source": [
    "def is_feasible(budget, quantity, price):\n",
    "\n",
    "    cost = "
   ]
  },
  {
   "cell_type": "markdown",
   "id": "e226d4aa-d226-441e-9314-3b94d3ea2cac",
   "metadata": {},
   "source": [
    "### 5.2. Create a custom function that takes contributions (x1,x2,x3) and calculates individual share to be added for each person in a public game as an output. Then test it with different contribution levels to ensure it calculates it correctly.\n",
    "You don't need to calculate the individual payoff. Just the amount that will be added to everyone."
   ]
  },
  {
   "cell_type": "code",
   "execution_count": null,
   "id": "397090c6-1baa-4769-b41e-d060c3e91658",
   "metadata": {},
   "outputs": [],
   "source": [
    "MULTIPLIER = 2\n",
    "INITIAL_ENDOWMENT = \n",
    "\n",
    "def calculate_contributions(x1,x2,x3):\n",
    "    total_contribution = \n",
    "    \n",
    "    individual share = \n",
    "\n",
    "    return()"
   ]
  },
  {
   "cell_type": "markdown",
   "id": "550acf8f-2533-4d52-8d51-3184ef0af8b2",
   "metadata": {},
   "source": [
    "### 5.3. Now generalize it in a way that it takes the input from a list. But this time the function should not return anything but calculate the payoff for each contribution in the list and print it out. Then test it with some real values."
   ]
  },
  {
   "cell_type": "code",
   "execution_count": null,
   "id": "6da5cb64-5c29-4644-bd95-cd13d61ba213",
   "metadata": {},
   "outputs": [],
   "source": [
    "def print_payoffs(contribution_list):\n",
    "    \n",
    "    total_contribution = sum(contributions) # sum is used to sum up all list items\n",
    "\n",
    "    individual_share = \n",
    "\n",
    "\n",
    "    for c in contribution_list:\n",
    "        player_payoff = ... - ... + ...\n",
    "\n",
    "        print(\"This player gets\", player_payoff)\n"
   ]
  },
  {
   "cell_type": "markdown",
   "id": "958f44ae-056c-43d9-9c48-38a1c708c46c",
   "metadata": {},
   "source": [
    "### 5.4. Remember `enumerate` function which helped us to get also the index of the item? Can you modify the loop in a way that it prints:\n",
    "\n",
    "`Player 1 gets 10`  \n",
    "`Player 2 gets 15`  \n",
    "....\n",
    "\n",
    "Remember the python indices start from 0"
   ]
  },
  {
   "cell_type": "code",
   "execution_count": null,
   "id": "e7822d56-1a42-40fb-acd2-9ba5a897aab2",
   "metadata": {},
   "outputs": [],
   "source": []
  }
 ],
 "metadata": {
  "kernelspec": {
   "display_name": "Python 3 (ipykernel)",
   "language": "python",
   "name": "python3"
  },
  "language_info": {
   "codemirror_mode": {
    "name": "ipython",
    "version": 3
   },
   "file_extension": ".py",
   "mimetype": "text/x-python",
   "name": "python",
   "nbconvert_exporter": "python",
   "pygments_lexer": "ipython3",
   "version": "3.9.13"
  }
 },
 "nbformat": 4,
 "nbformat_minor": 5
}
